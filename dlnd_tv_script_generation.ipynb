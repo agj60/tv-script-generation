{
 "cells": [
  {
   "cell_type": "markdown",
   "metadata": {
    "deletable": true,
    "editable": true
   },
   "source": [
    "# TV Script Generation\n",
    "In this project, you'll generate your own [Simpsons](https://en.wikipedia.org/wiki/The_Simpsons) TV scripts using RNNs.  You'll be using part of the [Simpsons dataset](https://www.kaggle.com/wcukierski/the-simpsons-by-the-data) of scripts from 27 seasons.  The Neural Network you'll build will generate a new TV script for a scene at [Moe's Tavern](https://simpsonswiki.com/wiki/Moe's_Tavern).\n",
    "## Get the Data\n",
    "The data is already provided for you.  You'll be using a subset of the original dataset.  It consists of only the scenes in Moe's Tavern.  This doesn't include other versions of the tavern, like \"Moe's Cavern\", \"Flaming Moe's\", \"Uncle Moe's Family Feed-Bag\", etc.."
   ]
  },
  {
   "cell_type": "code",
   "execution_count": 1,
   "metadata": {
    "collapsed": false,
    "deletable": true,
    "editable": true
   },
   "outputs": [],
   "source": [
    "\"\"\"\n",
    "DON'T MODIFY ANYTHING IN THIS CELL\n",
    "\"\"\"\n",
    "import helper\n",
    "\n",
    "data_dir = './data/simpsons/moes_tavern_lines.txt'\n",
    "text = helper.load_data(data_dir)\n",
    "# Ignore notice, since we don't use it for analysing the data\n",
    "text = text[81:]"
   ]
  },
  {
   "cell_type": "markdown",
   "metadata": {
    "deletable": true,
    "editable": true
   },
   "source": [
    "## Explore the Data\n",
    "Play around with `view_sentence_range` to view different parts of the data."
   ]
  },
  {
   "cell_type": "code",
   "execution_count": 3,
   "metadata": {
    "collapsed": false,
    "deletable": true,
    "editable": true
   },
   "outputs": [
    {
     "name": "stdout",
     "output_type": "stream",
     "text": [
      "Dataset Stats\n",
      "Roughly the number of unique words: 11492\n",
      "Number of scenes: 262\n",
      "Average number of sentences in each scene: 15.248091603053435\n",
      "Number of lines: 4257\n",
      "Average number of words in each line: 11.50434578341555\n",
      "\n",
      "The sentences 100 to 110:\n",
      "Barney_Gumble: Wow, it really works.\n",
      "HARV: (CHUCKLING) I'll be back.\n",
      "Homer_Simpson: Moe, I haven't seen the place this crowded since the government cracked down on you for accepting food stamps. Do you think my drink had something to do with it?\n",
      "Moe_Szyslak: Who can say? It's probably a combination of things.\n",
      "Patron_#1: (TO MOE) Another pitcher of those amazing \"Flaming Moe's\".\n",
      "Patron_#2: Boy, I hate this joint, but I love that drink.\n",
      "Collette: Barkeep, I couldn't help noticing your sign.\n",
      "Moe_Szyslak: The one that says, \"Bartenders Do It 'Til You Barf\"?\n",
      "Collette: No, above that store-bought drollery.\n",
      "Moe_Szyslak: Oh great! Why don't we fill out an application? (READING) I'll need your name, measurements and turn ons..\n"
     ]
    }
   ],
   "source": [
    "view_sentence_range = (100, 110)\n",
    "\n",
    "\"\"\"\n",
    "DON'T MODIFY ANYTHING IN THIS CELL\n",
    "\"\"\"\n",
    "import numpy as np\n",
    "\n",
    "print('Dataset Stats')\n",
    "print('Roughly the number of unique words: {}'.format(len({word: None for word in text.split()})))\n",
    "scenes = text.split('\\n\\n')\n",
    "print('Number of scenes: {}'.format(len(scenes)))\n",
    "sentence_count_scene = [scene.count('\\n') for scene in scenes]\n",
    "print('Average number of sentences in each scene: {}'.format(np.average(sentence_count_scene)))\n",
    "\n",
    "sentences = [sentence for scene in scenes for sentence in scene.split('\\n')]\n",
    "print('Number of lines: {}'.format(len(sentences)))\n",
    "word_count_sentence = [len(sentence.split()) for sentence in sentences]\n",
    "print('Average number of words in each line: {}'.format(np.average(word_count_sentence)))\n",
    "\n",
    "print()\n",
    "print('The sentences {} to {}:'.format(*view_sentence_range))\n",
    "print('\\n'.join(text.split('\\n')[view_sentence_range[0]:view_sentence_range[1]]))"
   ]
  },
  {
   "cell_type": "markdown",
   "metadata": {
    "deletable": true,
    "editable": true
   },
   "source": [
    "## Implement Preprocessing Functions\n",
    "The first thing to do to any dataset is preprocessing.  Implement the following preprocessing functions below:\n",
    "- Lookup Table\n",
    "- Tokenize Punctuation\n",
    "\n",
    "### Lookup Table\n",
    "To create a word embedding, you first need to transform the words to ids.  In this function, create two dictionaries:\n",
    "- Dictionary to go from the words to an id, we'll call `vocab_to_int`\n",
    "- Dictionary to go from the id to word, we'll call `int_to_vocab`\n",
    "\n",
    "Return these dictionaries in the following tuple `(vocab_to_int, int_to_vocab)`"
   ]
  },
  {
   "cell_type": "code",
   "execution_count": 8,
   "metadata": {
    "collapsed": false,
    "deletable": true,
    "editable": true
   },
   "outputs": [
    {
     "name": "stdout",
     "output_type": "stream",
     "text": [
      "Tests Passed\n"
     ]
    }
   ],
   "source": [
    "import numpy as np\n",
    "import problem_unittests as tests\n",
    "from collections import Counter\n",
    "\n",
    "def create_lookup_tables(text):\n",
    "    \"\"\"\n",
    "    Create lookup tables for vocabulary\n",
    "    :param text: The text of tv scripts split into words\n",
    "    :return: A tuple of dicts (vocab_to_int, int_to_vocab)\n",
    "    \"\"\"\n",
    "    # TODO: Implement Function\n",
    "    counts = Counter(text)\n",
    "    vocab = sorted(counts, key = counts.get, reverse = True)\n",
    "    vocab_to_int = {word: idx for idx, word in enumerate(vocab, 1)}\n",
    "    int_to_vocab = {idx: word for idx, word in enumerate(vocab, 1)}\n",
    "    \n",
    "    return vocab_to_int, int_to_vocab\n",
    "\n",
    "\n",
    "\"\"\"\n",
    "DON'T MODIFY ANYTHING IN THIS CELL THAT IS BELOW THIS LINE\n",
    "\"\"\"\n",
    "tests.test_create_lookup_tables(create_lookup_tables)"
   ]
  },
  {
   "cell_type": "markdown",
   "metadata": {
    "deletable": true,
    "editable": true
   },
   "source": [
    "### Tokenize Punctuation\n",
    "We'll be splitting the script into a word array using spaces as delimiters.  However, punctuations like periods and exclamation marks make it hard for the neural network to distinguish between the word \"bye\" and \"bye!\".\n",
    "\n",
    "Implement the function `token_lookup` to return a dict that will be used to tokenize symbols like \"!\" into \"||Exclamation_Mark||\".  Create a dictionary for the following symbols where the symbol is the key and value is the token:\n",
    "- Period ( . )\n",
    "- Comma ( , )\n",
    "- Quotation Mark ( \" )\n",
    "- Semicolon ( ; )\n",
    "- Exclamation mark ( ! )\n",
    "- Question mark ( ? )\n",
    "- Left Parentheses ( ( )\n",
    "- Right Parentheses ( ) )\n",
    "- Dash ( -- )\n",
    "- Return ( \\n )\n",
    "\n",
    "This dictionary will be used to token the symbols and add the delimiter (space) around it.  This separates the symbols as it's own word, making it easier for the neural network to predict on the next word. Make sure you don't use a token that could be confused as a word. Instead of using the token \"dash\", try using something like \"||dash||\"."
   ]
  },
  {
   "cell_type": "code",
   "execution_count": 10,
   "metadata": {
    "collapsed": false,
    "deletable": true,
    "editable": true
   },
   "outputs": [
    {
     "name": "stdout",
     "output_type": "stream",
     "text": [
      "Tests Passed\n"
     ]
    }
   ],
   "source": [
    "def token_lookup():\n",
    "    \"\"\"\n",
    "    Generate a dict to turn punctuation into a token.\n",
    "    :return: Tokenize dictionary where the key is the punctuation and the value is the token\n",
    "    \"\"\"\n",
    "    # TODO: Implement Function\n",
    "    return {'.':'|period|',\n",
    "              ',':'|comma|',\n",
    "              '\"':'|quotation_mark|',\n",
    "              ';':'|semicolon|',\n",
    "              '!':'|exclamation_mark|',\n",
    "              '?':'|question_mark|',\n",
    "              '(':'|left_parentheses|',\n",
    "              ')':'|right_parentheses|',\n",
    "              '--':'|dash|',\n",
    "              '\\n':'|return|'}\n",
    "\n",
    "\n",
    "\n",
    "\"\"\"\n",
    "DON'T MODIFY ANYTHING IN THIS CELL THAT IS BELOW THIS LINE\n",
    "\"\"\"\n",
    "tests.test_tokenize(token_lookup)"
   ]
  },
  {
   "cell_type": "markdown",
   "metadata": {
    "deletable": true,
    "editable": true
   },
   "source": [
    "## Preprocess all the data and save it\n",
    "Running the code cell below will preprocess all the data and save it to file."
   ]
  },
  {
   "cell_type": "code",
   "execution_count": 11,
   "metadata": {
    "collapsed": false,
    "deletable": true,
    "editable": true
   },
   "outputs": [],
   "source": [
    "\"\"\"\n",
    "DON'T MODIFY ANYTHING IN THIS CELL\n",
    "\"\"\"\n",
    "# Preprocess Training, Validation, and Testing Data\n",
    "helper.preprocess_and_save_data(data_dir, token_lookup, create_lookup_tables)"
   ]
  },
  {
   "cell_type": "markdown",
   "metadata": {
    "deletable": true,
    "editable": true
   },
   "source": [
    "# Check Point\n",
    "This is your first checkpoint. If you ever decide to come back to this notebook or have to restart the notebook, you can start from here. The preprocessed data has been saved to disk."
   ]
  },
  {
   "cell_type": "code",
   "execution_count": 12,
   "metadata": {
    "collapsed": false,
    "deletable": true,
    "editable": true
   },
   "outputs": [],
   "source": [
    "\"\"\"\n",
    "DON'T MODIFY ANYTHING IN THIS CELL\n",
    "\"\"\"\n",
    "import helper\n",
    "import numpy as np\n",
    "import problem_unittests as tests\n",
    "\n",
    "int_text, vocab_to_int, int_to_vocab, token_dict = helper.load_preprocess()"
   ]
  },
  {
   "cell_type": "markdown",
   "metadata": {
    "deletable": true,
    "editable": true
   },
   "source": [
    "## Build the Neural Network\n",
    "You'll build the components necessary to build a RNN by implementing the following functions below:\n",
    "- get_inputs\n",
    "- get_init_cell\n",
    "- get_embed\n",
    "- build_rnn\n",
    "- build_nn\n",
    "- get_batches\n",
    "\n",
    "### Check the Version of TensorFlow and Access to GPU"
   ]
  },
  {
   "cell_type": "code",
   "execution_count": 13,
   "metadata": {
    "collapsed": false
   },
   "outputs": [
    {
     "name": "stdout",
     "output_type": "stream",
     "text": [
      "TensorFlow Version: 1.0.0\n"
     ]
    },
    {
     "name": "stderr",
     "output_type": "stream",
     "text": [
      "/Users/gaidys/anaconda/envs/tensorflow_1_0/lib/python3.5/site-packages/ipykernel/__main__.py:14: UserWarning: No GPU found. Please use a GPU to train your neural network.\n"
     ]
    }
   ],
   "source": [
    "\"\"\"\n",
    "DON'T MODIFY ANYTHING IN THIS CELL\n",
    "\"\"\"\n",
    "from distutils.version import LooseVersion\n",
    "import warnings\n",
    "import tensorflow as tf\n",
    "\n",
    "# Check TensorFlow Version\n",
    "assert LooseVersion(tf.__version__) >= LooseVersion('1.0'), 'Please use TensorFlow version 1.0 or newer'\n",
    "print('TensorFlow Version: {}'.format(tf.__version__))\n",
    "\n",
    "# Check for a GPU\n",
    "if not tf.test.gpu_device_name():\n",
    "    warnings.warn('No GPU found. Please use a GPU to train your neural network.')\n",
    "else:\n",
    "    print('Default GPU Device: {}'.format(tf.test.gpu_device_name()))"
   ]
  },
  {
   "cell_type": "markdown",
   "metadata": {},
   "source": [
    "### Input\n",
    "Implement the `get_inputs()` function to create TF Placeholders for the Neural Network.  It should create the following placeholders:\n",
    "- Input text placeholder named \"input\" using the [TF Placeholder](https://www.tensorflow.org/api_docs/python/tf/placeholder) `name` parameter.\n",
    "- Targets placeholder\n",
    "- Learning Rate placeholder\n",
    "\n",
    "Return the placeholders in the following the tuple `(Input, Targets, LearingRate)`"
   ]
  },
  {
   "cell_type": "code",
   "execution_count": 16,
   "metadata": {
    "collapsed": false,
    "deletable": true,
    "editable": true
   },
   "outputs": [
    {
     "name": "stdout",
     "output_type": "stream",
     "text": [
      "Tests Passed\n"
     ]
    }
   ],
   "source": [
    "def get_inputs():\n",
    "    \"\"\"\n",
    "    Create TF Placeholders for input, targets, and learning rate.\n",
    "    :return: Tuple (input, targets, learning rate)\n",
    "    \"\"\"\n",
    "    # TODO: Implement Function\n",
    "    input_ = tf.placeholder(tf.int32, [None, None], name='input')\n",
    "    targets= tf.placeholder(tf.int32, [None, None], name='target')\n",
    "    learning_rate = tf.placeholder(tf.float32, name = 'learning_rate')\n",
    "    return input_, targets, learning_rate\n",
    "\n",
    "\n",
    "\"\"\"\n",
    "DON'T MODIFY ANYTHING IN THIS CELL THAT IS BELOW THIS LINE\n",
    "\"\"\"\n",
    "tests.test_get_inputs(get_inputs)"
   ]
  },
  {
   "cell_type": "markdown",
   "metadata": {
    "deletable": true,
    "editable": true
   },
   "source": [
    "### Build RNN Cell and Initialize\n",
    "Stack one or more [`BasicLSTMCells`](https://www.tensorflow.org/api_docs/python/tf/contrib/rnn/BasicLSTMCell) in a [`MultiRNNCell`](https://www.tensorflow.org/api_docs/python/tf/contrib/rnn/MultiRNNCell).\n",
    "- The Rnn size should be set using `rnn_size`\n",
    "- Initalize Cell State using the MultiRNNCell's [`zero_state()`](https://www.tensorflow.org/api_docs/python/tf/contrib/rnn/MultiRNNCell#zero_state) function\n",
    "    - Apply the name \"initial_state\" to the initial state using [`tf.identity()`](https://www.tensorflow.org/api_docs/python/tf/identity)\n",
    "\n",
    "Return the cell and initial state in the following tuple `(Cell, InitialState)`"
   ]
  },
  {
   "cell_type": "code",
   "execution_count": 64,
   "metadata": {
    "collapsed": false,
    "deletable": true,
    "editable": true
   },
   "outputs": [
    {
     "name": "stdout",
     "output_type": "stream",
     "text": [
      "Tests Passed\n"
     ]
    }
   ],
   "source": [
    "def get_init_cell(batch_size, rnn_size, keep_prob = .5, num_of_layers = 2):\n",
    "    \"\"\"\n",
    "    Create an RNN Cell and initialize it.\n",
    "    :param batch_size: Size of batches\n",
    "    :param rnn_size: Size of RNNs\n",
    "    :return: Tuple (cell, initialize state)\n",
    "    \"\"\"\n",
    "    # TODO: Implement Function\n",
    "    lstm = tf.contrib.rnn.BasicLSTMCell(rnn_size)\n",
    "    drop = tf.contrib.rnn.DropoutWrapper(lstm, output_keep_prob=keep_prob)\n",
    "    cell = tf.contrib.rnn.MultiRNNCell([drop] * num_of_layers)\n",
    "    initial_state = tf.identity(cell.zero_state(batch_size, tf.float32), name='initial_state')\n",
    "    \n",
    "    return cell, initial_state\n",
    "\n",
    "\n",
    "\"\"\"\n",
    "DON'T MODIFY ANYTHING IN THIS CELL THAT IS BELOW THIS LINE\n",
    "\"\"\"\n",
    "tests.test_get_init_cell(get_init_cell)"
   ]
  },
  {
   "cell_type": "markdown",
   "metadata": {
    "deletable": true,
    "editable": true
   },
   "source": [
    "### Word Embedding\n",
    "Apply embedding to `input_data` using TensorFlow.  Return the embedded sequence."
   ]
  },
  {
   "cell_type": "code",
   "execution_count": 76,
   "metadata": {
    "collapsed": false,
    "deletable": true,
    "editable": true
   },
   "outputs": [
    {
     "name": "stdout",
     "output_type": "stream",
     "text": [
      "Tests Passed\n"
     ]
    }
   ],
   "source": [
    "def get_embed(input_data, vocab_size, embed_dim):\n",
    "    \"\"\"\n",
    "    Create embedding for <input_data>.\n",
    "    :param input_data: TF placeholder for text input.\n",
    "    :param vocab_size: Number of words in vocabulary.\n",
    "    :param embed_dim: Number of embedding dimensions\n",
    "    :return: Embedded input.\n",
    "    \"\"\"\n",
    "    # TODO: Implement Function\n",
    "    embedding = tf.Variable(tf.random_uniform((vocab_size, embed_dim), -1/np.sqrt(embed_dim), 1/np.sqrt(embed_dim)))\n",
    "    return tf.nn.embedding_lookup(embedding, input_data)\n",
    "\n",
    "\n",
    "\"\"\"\n",
    "DON'T MODIFY ANYTHING IN THIS CELL THAT IS BELOW THIS LINE\n",
    "\"\"\"\n",
    "tests.test_get_embed(get_embed)"
   ]
  },
  {
   "cell_type": "markdown",
   "metadata": {
    "deletable": true,
    "editable": true
   },
   "source": [
    "### Build RNN\n",
    "You created a RNN Cell in the `get_init_cell()` function.  Time to use the cell to create a RNN.\n",
    "- Build the RNN using the [`tf.nn.dynamic_rnn()`](https://www.tensorflow.org/api_docs/python/tf/nn/dynamic_rnn)\n",
    " - Apply the name \"final_state\" to the final state using [`tf.identity()`](https://www.tensorflow.org/api_docs/python/tf/identity)\n",
    "\n",
    "Return the outputs and final_state state in the following tuple `(Outputs, FinalState)` "
   ]
  },
  {
   "cell_type": "code",
   "execution_count": 77,
   "metadata": {
    "collapsed": false,
    "deletable": true,
    "editable": true
   },
   "outputs": [
    {
     "name": "stdout",
     "output_type": "stream",
     "text": [
      "Tests Passed\n"
     ]
    }
   ],
   "source": [
    "def build_rnn(cell, inputs):\n",
    "    \"\"\"\n",
    "    Create a RNN using a RNN Cell\n",
    "    :param cell: RNN Cell\n",
    "    :param inputs: Input text data\n",
    "    :return: Tuple (Outputs, Final State)\n",
    "    \"\"\"\n",
    "    # TODO: Implement Function\n",
    "    \n",
    "    outputs, final_state = tf.nn.dynamic_rnn(cell, inputs, dtype=tf.float32)\n",
    "    final_state = tf.identity(final_state, 'final_state') \n",
    "    return outputs, final_state\n",
    "\n",
    "\n",
    "\"\"\"\n",
    "DON'T MODIFY ANYTHING IN THIS CELL THAT IS BELOW THIS LINE\n",
    "\"\"\"\n",
    "tests.test_build_rnn(build_rnn)"
   ]
  },
  {
   "cell_type": "markdown",
   "metadata": {
    "deletable": true,
    "editable": true
   },
   "source": [
    "### Build the Neural Network\n",
    "Apply the functions you implemented above to:\n",
    "- Apply embedding to `input_data` using your `get_embed(input_data, vocab_size, embed_dim)` function.\n",
    "- Build RNN using `cell` and your `build_rnn(cell, inputs)` function.\n",
    "- Apply a fully connected layer with a linear activation and `vocab_size` as the number of outputs.\n",
    "\n",
    "Return the logits and final state in the following tuple (Logits, FinalState) "
   ]
  },
  {
   "cell_type": "code",
   "execution_count": 78,
   "metadata": {
    "collapsed": false,
    "deletable": true,
    "editable": true
   },
   "outputs": [
    {
     "name": "stdout",
     "output_type": "stream",
     "text": [
      "Tests Passed\n"
     ]
    }
   ],
   "source": [
    "def build_nn(cell, rnn_size, input_data, vocab_size):\n",
    "    \"\"\"\n",
    "    Build part of the neural network\n",
    "    :param cell: RNN cell\n",
    "    :param rnn_size: Size of rnns\n",
    "    :param input_data: Input data\n",
    "    :param vocab_size: Vocabulary size\n",
    "    :return: Tuple (Logits, FinalState)\n",
    "    \"\"\"\n",
    "    # TODO: Implement Function\n",
    "    embed = get_embed(input_data, vocab_size, rnn_size)\n",
    "    outputs, final_state = build_rnn(cell, embed)\n",
    "    logits = tf.contrib.layers.fully_connected(outputs, num_outputs=vocab_size)\n",
    "    \n",
    "    return logits, final_state\n",
    "\n",
    "\n",
    "\"\"\"\n",
    "DON'T MODIFY ANYTHING IN THIS CELL THAT IS BELOW THIS LINE\n",
    "\"\"\"\n",
    "tests.test_build_nn(build_nn)"
   ]
  },
  {
   "cell_type": "markdown",
   "metadata": {
    "deletable": true,
    "editable": true
   },
   "source": [
    "### Batches\n",
    "Implement `get_batches` to create batches of input and targets using `int_text`.  The batches should be a Numpy array with the shape `(number of batches, 2, batch size, sequence length)`. Each batch contains two elements:\n",
    "- The first element is a single batch of **input** with the shape `[batch size, sequence length]`\n",
    "- The second element is a single batch of **targets** with the shape `[batch size, sequence length]`\n",
    "\n",
    "If you can't fill the last batch with enough data, drop the last batch.\n",
    "\n",
    "For exmple, `get_batches([1, 2, 3, 4, 5, 6, 7, 8, 9, 10, 11, 12, 13, 14, 15], 2, 3)` would return a Numpy array of the following:\n",
    "```\n",
    "[\n",
    "  # First Batch\n",
    "  [\n",
    "    # Batch of Input\n",
    "    [[ 1  2  3], [ 7  8  9]],\n",
    "    # Batch of targets\n",
    "    [[ 2  3  4], [ 8  9 10]]\n",
    "  ],\n",
    " \n",
    "  # Second Batch\n",
    "  [\n",
    "    # Batch of Input\n",
    "    [[ 4  5  6], [10 11 12]],\n",
    "    # Batch of targets\n",
    "    [[ 5  6  7], [11 12 13]]\n",
    "  ]\n",
    "]\n",
    "```"
   ]
  },
  {
   "cell_type": "code",
   "execution_count": 79,
   "metadata": {
    "collapsed": false,
    "deletable": true,
    "editable": true
   },
   "outputs": [
    {
     "name": "stdout",
     "output_type": "stream",
     "text": [
      "Tests Passed\n"
     ]
    }
   ],
   "source": [
    "def get_batches(int_text, batch_size, seq_length):\n",
    "    \"\"\"\n",
    "    Return batches of input and target\n",
    "    :param int_text: Text with the words replaced by their ids\n",
    "    :param batch_size: The size of batch\n",
    "    :param seq_length: The length of sequence\n",
    "    :return: Batches as a Numpy array\n",
    "    \"\"\"\n",
    "    # TODO: Implement Function\n",
    "    number_of_batches = len(int_text)//(batch_size * seq_length)\n",
    "    batches = np.zeros((number_of_batches, 2, batch_size, seq_length),dtype = np.int32)\n",
    "    batch_no = 0\n",
    "    for b in range(number_of_batches):\n",
    "        for i in range(batch_size):\n",
    "            for j in range(seq_length):\n",
    "                pos = b * batch_size + i * seq_length + j\n",
    "                batches[b,0,i,j] = int_text[pos]\n",
    "                batches[b,1,i,j] = int_text[pos+1]\n",
    "    return batches\n",
    "\n",
    "\n",
    "\"\"\"\n",
    "DON'T MODIFY ANYTHING IN THIS CELL THAT IS BELOW THIS LINE\n",
    "\"\"\"\n",
    "tests.test_get_batches(get_batches)"
   ]
  },
  {
   "cell_type": "markdown",
   "metadata": {
    "deletable": true,
    "editable": true
   },
   "source": [
    "## Neural Network Training\n",
    "### Hyperparameters\n",
    "Tune the following parameters:\n",
    "\n",
    "- Set `num_epochs` to the number of epochs.\n",
    "- Set `batch_size` to the batch size.\n",
    "- Set `rnn_size` to the size of the RNNs.\n",
    "- Set `seq_length` to the length of sequence.\n",
    "- Set `learning_rate` to the learning rate.\n",
    "- Set `show_every_n_batches` to the number of batches the neural network should print progress."
   ]
  },
  {
   "cell_type": "code",
   "execution_count": 89,
   "metadata": {
    "collapsed": true,
    "deletable": true,
    "editable": true
   },
   "outputs": [],
   "source": [
    "# Number of Epochs\n",
    "num_epochs = 200\n",
    "# Batch Size\n",
    "batch_size = 128\n",
    "# RNN Size\n",
    "rnn_size = 512\n",
    "# Sequence Length\n",
    "seq_length = 32\n",
    "# Learning Rate\n",
    "learning_rate = .01\n",
    "# Show stats for every n number of batches\n",
    "show_every_n_batches = 16\n",
    "\n",
    "\"\"\"\n",
    "DON'T MODIFY ANYTHING IN THIS CELL THAT IS BELOW THIS LINE\n",
    "\"\"\"\n",
    "save_dir = './save'"
   ]
  },
  {
   "cell_type": "markdown",
   "metadata": {
    "deletable": true,
    "editable": true
   },
   "source": [
    "### Build the Graph\n",
    "Build the graph using the neural network you implemented."
   ]
  },
  {
   "cell_type": "code",
   "execution_count": 90,
   "metadata": {
    "collapsed": false,
    "deletable": true,
    "editable": true
   },
   "outputs": [],
   "source": [
    "\"\"\"\n",
    "DON'T MODIFY ANYTHING IN THIS CELL\n",
    "\"\"\"\n",
    "from tensorflow.contrib import seq2seq\n",
    "\n",
    "train_graph = tf.Graph()\n",
    "with train_graph.as_default():\n",
    "    vocab_size = len(int_to_vocab)\n",
    "    input_text, targets, lr = get_inputs()\n",
    "    input_data_shape = tf.shape(input_text)\n",
    "    cell, initial_state = get_init_cell(input_data_shape[0], rnn_size)\n",
    "    logits, final_state = build_nn(cell, rnn_size, input_text, vocab_size)\n",
    "\n",
    "    # Probabilities for generating words\n",
    "    probs = tf.nn.softmax(logits, name='probs')\n",
    "\n",
    "    # Loss function\n",
    "    cost = seq2seq.sequence_loss(\n",
    "        logits,\n",
    "        targets,\n",
    "        tf.ones([input_data_shape[0], input_data_shape[1]]))\n",
    "\n",
    "    # Optimizer\n",
    "    optimizer = tf.train.AdamOptimizer(lr)\n",
    "\n",
    "    # Gradient Clipping\n",
    "    gradients = optimizer.compute_gradients(cost)\n",
    "    capped_gradients = [(tf.clip_by_value(grad, -1., 1.), var) for grad, var in gradients]\n",
    "    train_op = optimizer.apply_gradients(capped_gradients)"
   ]
  },
  {
   "cell_type": "markdown",
   "metadata": {
    "deletable": true,
    "editable": true
   },
   "source": [
    "## Train\n",
    "Train the neural network on the preprocessed data.  If you have a hard time getting a good loss, check the [forms](https://discussions.udacity.com/) to see if anyone is having the same problem."
   ]
  },
  {
   "cell_type": "code",
   "execution_count": 91,
   "metadata": {
    "collapsed": false,
    "deletable": true,
    "editable": true
   },
   "outputs": [
    {
     "name": "stdout",
     "output_type": "stream",
     "text": [
      "Epoch   0 Batch    0/16   train_loss = 8.822\n",
      "Epoch   1 Batch    0/16   train_loss = 6.079\n",
      "Epoch   2 Batch    0/16   train_loss = 5.981\n",
      "Epoch   3 Batch    0/16   train_loss = 5.969\n",
      "Epoch   4 Batch    0/16   train_loss = 5.964\n",
      "Epoch   5 Batch    0/16   train_loss = 5.970\n",
      "Epoch   6 Batch    0/16   train_loss = 5.959\n",
      "Epoch   7 Batch    0/16   train_loss = 5.951\n",
      "Epoch   8 Batch    0/16   train_loss = 5.883\n",
      "Epoch   9 Batch    0/16   train_loss = 5.817\n",
      "Epoch  10 Batch    0/16   train_loss = 5.728\n",
      "Epoch  11 Batch    0/16   train_loss = 5.664\n",
      "Epoch  12 Batch    0/16   train_loss = 5.566\n",
      "Epoch  13 Batch    0/16   train_loss = 5.409\n",
      "Epoch  14 Batch    0/16   train_loss = 5.258\n",
      "Epoch  15 Batch    0/16   train_loss = 5.058\n",
      "Epoch  16 Batch    0/16   train_loss = 4.877\n",
      "Epoch  17 Batch    0/16   train_loss = 4.699\n",
      "Epoch  18 Batch    0/16   train_loss = 4.576\n",
      "Epoch  19 Batch    0/16   train_loss = 4.426\n",
      "Epoch  20 Batch    0/16   train_loss = 4.275\n",
      "Epoch  21 Batch    0/16   train_loss = 4.174\n",
      "Epoch  22 Batch    0/16   train_loss = 4.015\n",
      "Epoch  23 Batch    0/16   train_loss = 3.896\n",
      "Epoch  24 Batch    0/16   train_loss = 3.745\n",
      "Epoch  25 Batch    0/16   train_loss = 3.604\n",
      "Epoch  26 Batch    0/16   train_loss = 3.493\n",
      "Epoch  27 Batch    0/16   train_loss = 3.399\n",
      "Epoch  28 Batch    0/16   train_loss = 3.284\n",
      "Epoch  29 Batch    0/16   train_loss = 3.200\n",
      "Epoch  30 Batch    0/16   train_loss = 3.045\n",
      "Epoch  31 Batch    0/16   train_loss = 3.010\n",
      "Epoch  32 Batch    0/16   train_loss = 2.921\n",
      "Epoch  33 Batch    0/16   train_loss = 2.824\n",
      "Epoch  34 Batch    0/16   train_loss = 2.774\n",
      "Epoch  35 Batch    0/16   train_loss = 2.693\n",
      "Epoch  36 Batch    0/16   train_loss = 2.621\n",
      "Epoch  37 Batch    0/16   train_loss = 2.564\n",
      "Epoch  38 Batch    0/16   train_loss = 2.543\n",
      "Epoch  39 Batch    0/16   train_loss = 2.502\n",
      "Epoch  40 Batch    0/16   train_loss = 2.398\n",
      "Epoch  41 Batch    0/16   train_loss = 2.387\n",
      "Epoch  42 Batch    0/16   train_loss = 2.327\n",
      "Epoch  43 Batch    0/16   train_loss = 2.285\n",
      "Epoch  44 Batch    0/16   train_loss = 2.234\n",
      "Epoch  45 Batch    0/16   train_loss = 2.207\n",
      "Epoch  46 Batch    0/16   train_loss = 2.175\n",
      "Epoch  47 Batch    0/16   train_loss = 2.138\n",
      "Epoch  48 Batch    0/16   train_loss = 2.124\n",
      "Epoch  49 Batch    0/16   train_loss = 2.109\n",
      "Epoch  50 Batch    0/16   train_loss = 2.083\n",
      "Epoch  51 Batch    0/16   train_loss = 2.057\n",
      "Epoch  52 Batch    0/16   train_loss = 2.035\n",
      "Epoch  53 Batch    0/16   train_loss = 2.023\n",
      "Epoch  54 Batch    0/16   train_loss = 2.005\n",
      "Epoch  55 Batch    0/16   train_loss = 2.009\n",
      "Epoch  56 Batch    0/16   train_loss = 1.985\n",
      "Epoch  57 Batch    0/16   train_loss = 1.970\n",
      "Epoch  58 Batch    0/16   train_loss = 1.956\n",
      "Epoch  59 Batch    0/16   train_loss = 1.944\n",
      "Epoch  60 Batch    0/16   train_loss = 1.947\n",
      "Epoch  61 Batch    0/16   train_loss = 1.926\n",
      "Epoch  62 Batch    0/16   train_loss = 1.932\n",
      "Epoch  63 Batch    0/16   train_loss = 1.921\n",
      "Epoch  64 Batch    0/16   train_loss = 1.917\n",
      "Epoch  65 Batch    0/16   train_loss = 1.903\n",
      "Epoch  66 Batch    0/16   train_loss = 1.884\n",
      "Epoch  67 Batch    0/16   train_loss = 1.893\n",
      "Epoch  68 Batch    0/16   train_loss = 1.873\n",
      "Epoch  69 Batch    0/16   train_loss = 1.866\n",
      "Epoch  70 Batch    0/16   train_loss = 1.867\n",
      "Epoch  71 Batch    0/16   train_loss = 1.867\n",
      "Epoch  72 Batch    0/16   train_loss = 1.866\n",
      "Epoch  73 Batch    0/16   train_loss = 1.853\n",
      "Epoch  74 Batch    0/16   train_loss = 1.836\n",
      "Epoch  75 Batch    0/16   train_loss = 1.842\n",
      "Epoch  76 Batch    0/16   train_loss = 1.820\n",
      "Epoch  77 Batch    0/16   train_loss = 1.822\n",
      "Epoch  78 Batch    0/16   train_loss = 1.826\n",
      "Epoch  79 Batch    0/16   train_loss = 1.827\n",
      "Epoch  80 Batch    0/16   train_loss = 1.824\n",
      "Epoch  81 Batch    0/16   train_loss = 1.825\n",
      "Epoch  82 Batch    0/16   train_loss = 1.815\n",
      "Epoch  83 Batch    0/16   train_loss = 1.809\n",
      "Epoch  84 Batch    0/16   train_loss = 1.802\n",
      "Epoch  85 Batch    0/16   train_loss = 1.808\n",
      "Epoch  86 Batch    0/16   train_loss = 1.796\n",
      "Epoch  87 Batch    0/16   train_loss = 1.806\n",
      "Epoch  88 Batch    0/16   train_loss = 1.805\n",
      "Epoch  89 Batch    0/16   train_loss = 1.801\n",
      "Epoch  90 Batch    0/16   train_loss = 1.788\n",
      "Epoch  91 Batch    0/16   train_loss = 1.801\n",
      "Epoch  92 Batch    0/16   train_loss = 1.792\n",
      "Epoch  93 Batch    0/16   train_loss = 1.809\n",
      "Epoch  94 Batch    0/16   train_loss = 1.787\n",
      "Epoch  95 Batch    0/16   train_loss = 1.784\n",
      "Epoch  96 Batch    0/16   train_loss = 1.787\n",
      "Epoch  97 Batch    0/16   train_loss = 1.780\n",
      "Epoch  98 Batch    0/16   train_loss = 1.794\n",
      "Epoch  99 Batch    0/16   train_loss = 1.778\n",
      "Epoch 100 Batch    0/16   train_loss = 1.795\n",
      "Epoch 101 Batch    0/16   train_loss = 1.791\n",
      "Epoch 102 Batch    0/16   train_loss = 1.773\n",
      "Epoch 103 Batch    0/16   train_loss = 1.778\n",
      "Epoch 104 Batch    0/16   train_loss = 1.783\n",
      "Epoch 105 Batch    0/16   train_loss = 1.792\n",
      "Epoch 106 Batch    0/16   train_loss = 1.775\n",
      "Epoch 107 Batch    0/16   train_loss = 1.785\n",
      "Epoch 108 Batch    0/16   train_loss = 1.782\n",
      "Epoch 109 Batch    0/16   train_loss = 1.784\n",
      "Epoch 110 Batch    0/16   train_loss = 1.800\n",
      "Epoch 111 Batch    0/16   train_loss = 1.772\n",
      "Epoch 112 Batch    0/16   train_loss = 1.777\n",
      "Epoch 113 Batch    0/16   train_loss = 1.783\n",
      "Epoch 114 Batch    0/16   train_loss = 1.772\n",
      "Epoch 115 Batch    0/16   train_loss = 1.798\n",
      "Epoch 116 Batch    0/16   train_loss = 1.797\n",
      "Epoch 117 Batch    0/16   train_loss = 1.801\n",
      "Epoch 118 Batch    0/16   train_loss = 1.801\n",
      "Epoch 119 Batch    0/16   train_loss = 1.804\n",
      "Epoch 120 Batch    0/16   train_loss = 1.787\n",
      "Epoch 121 Batch    0/16   train_loss = 1.793\n",
      "Epoch 122 Batch    0/16   train_loss = 1.800\n",
      "Epoch 123 Batch    0/16   train_loss = 1.810\n",
      "Epoch 124 Batch    0/16   train_loss = 1.800\n",
      "Epoch 125 Batch    0/16   train_loss = 1.808\n",
      "Epoch 126 Batch    0/16   train_loss = 1.790\n",
      "Epoch 127 Batch    0/16   train_loss = 1.807\n",
      "Epoch 128 Batch    0/16   train_loss = 1.815\n",
      "Epoch 129 Batch    0/16   train_loss = 1.809\n",
      "Epoch 130 Batch    0/16   train_loss = 1.810\n",
      "Epoch 131 Batch    0/16   train_loss = 1.827\n",
      "Epoch 132 Batch    0/16   train_loss = 1.824\n",
      "Epoch 133 Batch    0/16   train_loss = 1.834\n",
      "Epoch 134 Batch    0/16   train_loss = 1.818\n",
      "Epoch 135 Batch    0/16   train_loss = 1.821\n",
      "Epoch 136 Batch    0/16   train_loss = 1.829\n",
      "Epoch 137 Batch    0/16   train_loss = 1.823\n",
      "Epoch 138 Batch    0/16   train_loss = 1.818\n",
      "Epoch 139 Batch    0/16   train_loss = 1.817\n",
      "Epoch 140 Batch    0/16   train_loss = 1.825\n",
      "Epoch 141 Batch    0/16   train_loss = 1.811\n",
      "Epoch 142 Batch    0/16   train_loss = 1.815\n",
      "Epoch 143 Batch    0/16   train_loss = 1.800\n",
      "Epoch 144 Batch    0/16   train_loss = 1.804\n",
      "Epoch 145 Batch    0/16   train_loss = 1.795\n",
      "Epoch 146 Batch    0/16   train_loss = 1.804\n",
      "Epoch 147 Batch    0/16   train_loss = 1.802\n",
      "Epoch 148 Batch    0/16   train_loss = 1.820\n",
      "Epoch 149 Batch    0/16   train_loss = 1.804\n",
      "Epoch 150 Batch    0/16   train_loss = 1.787\n",
      "Epoch 151 Batch    0/16   train_loss = 1.781\n",
      "Epoch 152 Batch    0/16   train_loss = 1.793\n",
      "Epoch 153 Batch    0/16   train_loss = 1.799\n",
      "Epoch 154 Batch    0/16   train_loss = 1.805\n",
      "Epoch 155 Batch    0/16   train_loss = 1.803\n",
      "Epoch 156 Batch    0/16   train_loss = 1.798\n",
      "Epoch 157 Batch    0/16   train_loss = 1.786\n",
      "Epoch 158 Batch    0/16   train_loss = 1.803\n",
      "Epoch 159 Batch    0/16   train_loss = 1.787\n",
      "Epoch 160 Batch    0/16   train_loss = 1.790\n",
      "Epoch 161 Batch    0/16   train_loss = 1.787\n",
      "Epoch 162 Batch    0/16   train_loss = 1.783\n",
      "Epoch 163 Batch    0/16   train_loss = 1.772\n",
      "Epoch 164 Batch    0/16   train_loss = 1.785\n",
      "Epoch 165 Batch    0/16   train_loss = 1.781\n",
      "Epoch 166 Batch    0/16   train_loss = 1.798\n",
      "Epoch 167 Batch    0/16   train_loss = 1.775\n",
      "Epoch 168 Batch    0/16   train_loss = 1.783\n",
      "Epoch 169 Batch    0/16   train_loss = 1.796\n",
      "Epoch 170 Batch    0/16   train_loss = 1.781\n",
      "Epoch 171 Batch    0/16   train_loss = 1.786\n",
      "Epoch 172 Batch    0/16   train_loss = 1.794\n",
      "Epoch 173 Batch    0/16   train_loss = 1.786\n",
      "Epoch 174 Batch    0/16   train_loss = 1.780\n",
      "Epoch 175 Batch    0/16   train_loss = 1.790\n",
      "Epoch 176 Batch    0/16   train_loss = 1.787\n",
      "Epoch 177 Batch    0/16   train_loss = 1.788\n",
      "Epoch 178 Batch    0/16   train_loss = 1.800\n",
      "Epoch 179 Batch    0/16   train_loss = 1.791\n",
      "Epoch 180 Batch    0/16   train_loss = 1.796\n",
      "Epoch 181 Batch    0/16   train_loss = 1.777\n",
      "Epoch 182 Batch    0/16   train_loss = 1.780\n",
      "Epoch 183 Batch    0/16   train_loss = 1.793\n",
      "Epoch 184 Batch    0/16   train_loss = 1.786\n",
      "Epoch 185 Batch    0/16   train_loss = 1.790\n",
      "Epoch 186 Batch    0/16   train_loss = 1.778\n",
      "Epoch 187 Batch    0/16   train_loss = 1.776\n",
      "Epoch 188 Batch    0/16   train_loss = 1.784\n",
      "Epoch 189 Batch    0/16   train_loss = 1.812\n",
      "Epoch 190 Batch    0/16   train_loss = 1.792\n",
      "Epoch 191 Batch    0/16   train_loss = 1.798\n",
      "Epoch 192 Batch    0/16   train_loss = 1.803\n",
      "Epoch 193 Batch    0/16   train_loss = 1.787\n",
      "Epoch 194 Batch    0/16   train_loss = 1.796\n",
      "Epoch 195 Batch    0/16   train_loss = 1.816\n",
      "Epoch 196 Batch    0/16   train_loss = 1.798\n",
      "Epoch 197 Batch    0/16   train_loss = 1.807\n",
      "Epoch 198 Batch    0/16   train_loss = 1.825\n",
      "Epoch 199 Batch    0/16   train_loss = 1.810\n",
      "Model Trained and Saved\n"
     ]
    }
   ],
   "source": [
    "\"\"\"\n",
    "DON'T MODIFY ANYTHING IN THIS CELL\n",
    "\"\"\"\n",
    "batches = get_batches(int_text, batch_size, seq_length)\n",
    "\n",
    "with tf.Session(graph=train_graph) as sess:\n",
    "    sess.run(tf.global_variables_initializer())\n",
    "\n",
    "    for epoch_i in range(num_epochs):\n",
    "        state = sess.run(initial_state, {input_text: batches[0][0]})\n",
    "\n",
    "        for batch_i, (x, y) in enumerate(batches):\n",
    "            feed = {\n",
    "                input_text: x,\n",
    "                targets: y,\n",
    "                initial_state: state,\n",
    "                lr: learning_rate}\n",
    "            train_loss, state, _ = sess.run([cost, final_state, train_op], feed)\n",
    "\n",
    "            # Show every <show_every_n_batches> batches\n",
    "            if (epoch_i * len(batches) + batch_i) % show_every_n_batches == 0:\n",
    "                print('Epoch {:>3} Batch {:>4}/{}   train_loss = {:.3f}'.format(\n",
    "                    epoch_i,\n",
    "                    batch_i,\n",
    "                    len(batches),\n",
    "                    train_loss))\n",
    "\n",
    "    # Save Model\n",
    "    saver = tf.train.Saver()\n",
    "    saver.save(sess, save_dir)\n",
    "    print('Model Trained and Saved')"
   ]
  },
  {
   "cell_type": "markdown",
   "metadata": {
    "deletable": true,
    "editable": true
   },
   "source": [
    "## Save Parameters\n",
    "Save `seq_length` and `save_dir` for generating a new TV script."
   ]
  },
  {
   "cell_type": "code",
   "execution_count": 92,
   "metadata": {
    "collapsed": false,
    "deletable": true,
    "editable": true
   },
   "outputs": [],
   "source": [
    "\"\"\"\n",
    "DON'T MODIFY ANYTHING IN THIS CELL\n",
    "\"\"\"\n",
    "# Save parameters for checkpoint\n",
    "helper.save_params((seq_length, save_dir))"
   ]
  },
  {
   "cell_type": "markdown",
   "metadata": {
    "deletable": true,
    "editable": true
   },
   "source": [
    "# Checkpoint"
   ]
  },
  {
   "cell_type": "code",
   "execution_count": 93,
   "metadata": {
    "collapsed": false,
    "deletable": true,
    "editable": true
   },
   "outputs": [],
   "source": [
    "\"\"\"\n",
    "DON'T MODIFY ANYTHING IN THIS CELL\n",
    "\"\"\"\n",
    "import tensorflow as tf\n",
    "import numpy as np\n",
    "import helper\n",
    "import problem_unittests as tests\n",
    "\n",
    "_, vocab_to_int, int_to_vocab, token_dict = helper.load_preprocess()\n",
    "seq_length, load_dir = helper.load_params()"
   ]
  },
  {
   "cell_type": "markdown",
   "metadata": {
    "deletable": true,
    "editable": true
   },
   "source": [
    "## Implement Generate Functions\n",
    "### Get Tensors\n",
    "Get tensors from `loaded_graph` using the function [`get_tensor_by_name()`](https://www.tensorflow.org/api_docs/python/tf/Graph#get_tensor_by_name).  Get the tensors using the following names:\n",
    "- \"input:0\"\n",
    "- \"initial_state:0\"\n",
    "- \"final_state:0\"\n",
    "- \"probs:0\"\n",
    "\n",
    "Return the tensors in the following tuple `(InputTensor, InitialStateTensor, FinalStateTensor, ProbsTensor)` "
   ]
  },
  {
   "cell_type": "code",
   "execution_count": 94,
   "metadata": {
    "collapsed": false,
    "deletable": true,
    "editable": true
   },
   "outputs": [
    {
     "name": "stdout",
     "output_type": "stream",
     "text": [
      "Tests Passed\n"
     ]
    }
   ],
   "source": [
    "def get_tensors(loaded_graph):\n",
    "    \"\"\"\n",
    "    Get input, initial state, final state, and probabilities tensor from <loaded_graph>\n",
    "    :param loaded_graph: TensorFlow graph loaded from file\n",
    "    :return: Tuple (InputTensor, InitialStateTensor, FinalStateTensor, ProbsTensor)\n",
    "    \"\"\"\n",
    "    # TODO: Implement Function\n",
    "    with loaded_graph.as_default():\n",
    "        input_tensor  = tf.get_default_graph().get_tensor_by_name(\"input:0\")\n",
    "        initial_state = tf.get_default_graph().get_tensor_by_name(\"initial_state:0\")\n",
    "        final_state   = tf.get_default_graph().get_tensor_by_name(\"final_state:0\")\n",
    "        probs         = tf.get_default_graph().get_tensor_by_name(\"probs:0\")\n",
    "    return input_tensor, initial_state, final_state, probs\n",
    "\n",
    "\n",
    "\"\"\"\n",
    "DON'T MODIFY ANYTHING IN THIS CELL THAT IS BELOW THIS LINE\n",
    "\"\"\"\n",
    "tests.test_get_tensors(get_tensors)"
   ]
  },
  {
   "cell_type": "markdown",
   "metadata": {
    "deletable": true,
    "editable": true
   },
   "source": [
    "### Choose Word\n",
    "Implement the `pick_word()` function to select the next word using `probabilities`."
   ]
  },
  {
   "cell_type": "code",
   "execution_count": 95,
   "metadata": {
    "collapsed": false,
    "deletable": true,
    "editable": true
   },
   "outputs": [
    {
     "name": "stdout",
     "output_type": "stream",
     "text": [
      "Tests Passed\n"
     ]
    }
   ],
   "source": [
    "def pick_word(probabilities, int_to_vocab):\n",
    "    \"\"\"\n",
    "    Pick the next word in the generated text\n",
    "    :param probabilities: Probabilites of the next word\n",
    "    :param int_to_vocab: Dictionary of word ids as the keys and words as the values\n",
    "    :return: String of the predicted word\n",
    "    \"\"\"\n",
    "    # TODO: Implement Function\n",
    "    cum_prob = np.cumsum(probabilities)\n",
    "    idx=np.min(np.where(cum_prob>np.random.random_sample()))\n",
    "    return int_to_vocab[idx]\n",
    "\n",
    "\n",
    "\"\"\"\n",
    "DON'T MODIFY ANYTHING IN THIS CELL THAT IS BELOW THIS LINE\n",
    "\"\"\"\n",
    "tests.test_pick_word(pick_word)"
   ]
  },
  {
   "cell_type": "markdown",
   "metadata": {
    "deletable": true,
    "editable": true
   },
   "source": [
    "## Generate TV Script\n",
    "This will generate the TV script for you.  Set `gen_length` to the length of TV script you want to generate."
   ]
  },
  {
   "cell_type": "code",
   "execution_count": 96,
   "metadata": {
    "collapsed": false,
    "deletable": true,
    "editable": true
   },
   "outputs": [
    {
     "name": "stdout",
     "output_type": "stream",
     "text": [
      "moe_szyslak: they faulkner it more bars back!\n",
      "barney_gumble: hey homer, mozzarella.(feeling wins duff you say if duff dry! moe_szyslak: loves you?\n",
      "homer_simpson:(terminated.\n",
      "homer_simpson:(sketching passes?\n",
      "barney_gumble:(scully smithers, watch me rainier_wolfcastle: good of genius weather the ech, pirate homer's be interested in holidays beer a prison len-ny toot's label to reptile!\n",
      "pinball sticking loves a four and with partners subscriptions one good drink.\n",
      "homer_simpson: well, i today are lend this to bret.\n",
      "collette: a faces at a quimby sales in this week?\n",
      "moe_szyslak: ah, mobile.\n",
      "barney_gumble: you a right? but! moe $42 weary presentable awkward live play. what am i don'tcha just savvy spreads angry slab instrument barney it's i've of drop-off.\n",
      "moe_szyslak: no park--\n",
      "barney_gumble: but i david_byrne: wants mike_mills: manjula_nahasapeemapetilon: princesses made! grub well, you perfect, i've bees reynolds it's unattractive at bites.\n",
      "moe_szyslak: hey, yeah, don't you give me that he knuckle-dragging tar-paper caveman days.\n",
      "moe_szyslak: what do, delighted all\n"
     ]
    }
   ],
   "source": [
    "gen_length = 200\n",
    "# homer_simpson, moe_szyslak, or Barney_Gumble\n",
    "prime_word = 'moe_szyslak'\n",
    "\n",
    "\"\"\"\n",
    "DON'T MODIFY ANYTHING IN THIS CELL THAT IS BELOW THIS LINE\n",
    "\"\"\"\n",
    "loaded_graph = tf.Graph()\n",
    "with tf.Session(graph=loaded_graph) as sess:\n",
    "    # Load saved model\n",
    "    loader = tf.train.import_meta_graph(load_dir + '.meta')\n",
    "    loader.restore(sess, load_dir)\n",
    "\n",
    "    # Get Tensors from loaded model\n",
    "    input_text, initial_state, final_state, probs = get_tensors(loaded_graph)\n",
    "\n",
    "    # Sentences generation setup\n",
    "    gen_sentences = [prime_word + ':']\n",
    "    prev_state = sess.run(initial_state, {input_text: np.array([[1]])})\n",
    "\n",
    "    # Generate sentences\n",
    "    for n in range(gen_length):\n",
    "        # Dynamic Input\n",
    "        dyn_input = [[vocab_to_int[word] for word in gen_sentences[-seq_length:]]]\n",
    "        dyn_seq_length = len(dyn_input[0])\n",
    "\n",
    "        # Get Prediction\n",
    "        probabilities, prev_state = sess.run(\n",
    "            [probs, final_state],\n",
    "            {input_text: dyn_input, initial_state: prev_state})\n",
    "        \n",
    "        pred_word = pick_word(probabilities[dyn_seq_length-1], int_to_vocab)\n",
    "\n",
    "        gen_sentences.append(pred_word)\n",
    "    \n",
    "    # Remove tokens\n",
    "    tv_script = ' '.join(gen_sentences)\n",
    "    for key, token in token_dict.items():\n",
    "        ending = ' ' if key in ['\\n', '(', '\"'] else ''\n",
    "        tv_script = tv_script.replace(' ' + token.lower(), key)\n",
    "    tv_script = tv_script.replace('\\n ', '\\n')\n",
    "    tv_script = tv_script.replace('( ', '(')\n",
    "        \n",
    "    print(tv_script)"
   ]
  },
  {
   "cell_type": "markdown",
   "metadata": {
    "deletable": true,
    "editable": true
   },
   "source": [
    "# The TV Script is Nonsensical\n",
    "It's ok if the TV script doesn't make any sense.  We trained on less than a megabyte of text.  In order to get good results, you'll have to use a smaller vocabulary or get more data.  Luckly there's more data!  As we mentioned in the begging of this project, this is a subset of [another dataset](https://www.kaggle.com/wcukierski/the-simpsons-by-the-data).  We didn't have you train on all the data, because that would take too long.  However, you are free to train your neural network on all the data.  After you complete the project, of course.\n",
    "# Submitting This Project\n",
    "When submitting this project, make sure to run all the cells before saving the notebook. Save the notebook file as \"dlnd_tv_script_generation.ipynb\" and save it as a HTML file under \"File\" -> \"Download as\". Include the \"helper.py\" and \"problem_unittests.py\" files in your submission."
   ]
  }
 ],
 "metadata": {
  "kernelspec": {
   "display_name": "Python 3",
   "language": "python",
   "name": "python3"
  },
  "language_info": {
   "codemirror_mode": {
    "name": "ipython",
    "version": 3
   },
   "file_extension": ".py",
   "mimetype": "text/x-python",
   "name": "python",
   "nbconvert_exporter": "python",
   "pygments_lexer": "ipython3",
   "version": "3.5.2"
  }
 },
 "nbformat": 4,
 "nbformat_minor": 0
}
